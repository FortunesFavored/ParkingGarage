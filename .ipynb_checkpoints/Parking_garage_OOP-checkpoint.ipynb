{
 "cells": [
  {
   "cell_type": "code",
   "execution_count": 1,
   "metadata": {},
   "outputs": [],
   "source": [
    "class lot():\n",
    "    \n",
    "    cur = [1,2,3,4,5,6,7,8,9,10]\n",
    "    \n",
    "    def __init__(self):\n",
    "        self.spaces = lot.cur"
   ]
  },
  {
   "cell_type": "code",
   "execution_count": 2,
   "metadata": {},
   "outputs": [],
   "source": [
    "class tickets:\n",
    "    \n",
    "    current_ticket = 1\n",
    "    #manage tickets for spaces in the lot\n",
    "    def __init__(self, driver, spot, paid=False):\n",
    "        self.driver = driver\n",
    "        self.spot = int(spot)\n",
    "        self.paid = paid\n",
    "        \n",
    "    def choseSpot(self):\n",
    "        garage.spaces.remove(self.spot)\n",
    "        \n",
    "    def leaveSpot(self):\n",
    "        garage.spaces.append(self.spot)\n",
    "        \n",
    "    def pay_ticket(self):\n",
    "        self.paid = True\n",
    "\n",
    "        \n"
   ]
  },
  {
   "cell_type": "code",
   "execution_count": 3,
   "metadata": {},
   "outputs": [],
   "source": [
    " "
   ]
  },
  {
   "cell_type": "code",
   "execution_count": 5,
   "metadata": {},
   "outputs": [
    {
     "name": "stdout",
     "output_type": "stream",
     "text": [
      "Current available spots: [2, 3, 4, 5, 6, 7, 8, 9, 10]\n",
      "Would you like a \"Ticket\", \"Pay\", or \"Leave\"? ticket\n",
      "Current Available Spots are:  [2, 3, 4, 5, 6, 7, 8, 9, 10]\n",
      "Who is the driver? gabe\n",
      "What spot did you park in? 3\n",
      "Current available spots: [2, 4, 5, 6, 7, 8, 9, 10]\n",
      "Would you like a \"Ticket\", \"Pay\", or \"Leave\"? pay\n",
      "Current spot holders: ['gabe']\n",
      "Who are yougabe\n",
      "How would you like to pay? (Cash, Credit, Bitcoin) bitcoin\n",
      "True\n",
      "Current available spots: [2, 4, 5, 6, 7, 8, 9, 10]\n",
      "Would you like a \"Ticket\", \"Pay\", or \"Leave\"? leave\n",
      "['gabe']\n",
      "Who are you gabe\n",
      "Thank you come again \n",
      "Current available spots: [2, 3, 4, 5, 6, 7, 8, 9, 10]\n",
      "Would you like a \"Ticket\", \"Pay\", or \"Leave\"? quit\n"
     ]
    }
   ],
   "source": [
    "garage = lot()\n",
    "    \n",
    "    \n",
    "    \n",
    "def main():\n",
    "    peeps = []\n",
    "    names = []\n",
    "    while True:\n",
    "        print(f\"Current available spots: {sorted(garage.spaces)}\")\n",
    "        action = input('Would you like a \"Ticket\", \"Pay\", or \"Leave\"? ').lower().strip()\n",
    "        if action == 'ticket':\n",
    "            print('Current Available Spots are: ', garage.spaces)\n",
    "            driver = input('Who is the driver? ')\n",
    "            spot = int(input('What spot did you park in? '))\n",
    "            driver = tickets(driver,spot)\n",
    "            driver.choseSpot()\n",
    "            peeps.append(driver)\n",
    "            names.append(driver.driver)\n",
    "            continue\n",
    "        elif action == 'pay':\n",
    "            print(f\"Current spot holders: {names}\")\n",
    "            customer = input('Who are you')\n",
    "            for i in peeps:\n",
    "                if customer == i.driver:\n",
    "                    driver = i\n",
    "                    break\n",
    "            else:\n",
    "                print(\"You don't have the right to be here. \")\n",
    "                continue\n",
    "            if driver.paid == True:\n",
    "                print(\"youve already paid\")\n",
    "            else:\n",
    "                x = input('How would you like to pay? (Cash, Credit, Bitcoin) ')\n",
    "                driver.pay_ticket()\n",
    "                print(\"You have paid! skiddadle\")\n",
    "        \n",
    "        elif action == 'leave':\n",
    "            print(names)\n",
    "            customer = input('Who are you ')\n",
    "            for i in peeps:\n",
    "                if customer == i.driver:\n",
    "                    driver = i\n",
    "                    break\n",
    "            else:\n",
    "                print(\"You're not even supposed to be here \")\n",
    "                continue\n",
    "            if driver.paid == True:\n",
    "                driver.leaveSpot()\n",
    "                print(\"Thank you come again \")\n",
    "            else:\n",
    "                print(\"I WANT MY MONEY SAM!! \")\n",
    "                print(f\"but foreal {driver.driver} you need to pay! \")\n",
    "                \n",
    "            \n",
    "        elif action == 'quit':\n",
    "            break\n",
    "        else:\n",
    "            print('Invalid Input please try again Sammy ')\n",
    "        \n",
    "    \n",
    "    \n",
    "main()"
   ]
  }
 ],
 "metadata": {
  "kernelspec": {
   "display_name": "Python 3",
   "language": "python",
   "name": "python3"
  },
  "language_info": {
   "codemirror_mode": {
    "name": "ipython",
    "version": 3
   },
   "file_extension": ".py",
   "mimetype": "text/x-python",
   "name": "python",
   "nbconvert_exporter": "python",
   "pygments_lexer": "ipython3",
   "version": "3.8.5"
  }
 },
 "nbformat": 4,
 "nbformat_minor": 4
}
