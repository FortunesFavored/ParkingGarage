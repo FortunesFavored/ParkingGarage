{
 "cells": [
  {
   "cell_type": "code",
   "execution_count": 38,
   "metadata": {},
   "outputs": [],
   "source": [
    "class lot():\n",
    "    \n",
    "    cur = [1,2,3,4,5,6,7,8,9,10]\n",
    "    \n",
    "    def __init__(self):\n",
    "        self.spaces = lot.cur\n",
    "#         [1,2,3,4,5,6,7,8,9,10]\n",
    "        \n",
    "    def remove_space():\n",
    "        lot.cur\n",
    "        pass\n",
    "    \n",
    "    \n",
    "    def add_space():\n",
    "        pass\n",
    "    \n",
    "    \n",
    "    \n"
   ]
  },
  {
   "cell_type": "code",
   "execution_count": 39,
   "metadata": {},
   "outputs": [
    {
     "name": "stdout",
     "output_type": "stream",
     "text": [
      "[1, 2, 3, 4, 5, 6, 7, 8, 9, 10]\n"
     ]
    }
   ],
   "source": [
    "garage = lot()\n",
    "print(garage.spaces)"
   ]
  },
  {
   "cell_type": "code",
   "execution_count": 40,
   "metadata": {},
   "outputs": [
    {
     "name": "stdout",
     "output_type": "stream",
     "text": [
      "[1, 2, 3, 4, 5, 6, 7, 8, 9, 10]\n",
      "[1, 2, 3, 5, 6, 7, 8, 9, 10]\n",
      "[1, 2, 3, 5, 6, 7, 8, 9, 10]\n",
      "[1, 2, 3, 5, 6, 7, 8, 9, 10, 4]\n"
     ]
    }
   ],
   "source": [
    "class tickets:\n",
    "    \n",
    "    current_ticket = 1\n",
    "    #manage tickets for spaces in the lot\n",
    "    def __init__(self, driver, spot, paid=False):\n",
    "        self.driver = driver\n",
    "        self.spot = spot\n",
    "        self.paid = paid\n",
    "        \n",
    "    def choseSpot(self):\n",
    "        print(garage.spaces)\n",
    "        garage.spaces.remove(self.spot)\n",
    "        print(garage.spaces)\n",
    "        \n",
    "    def leaveSpot(self):\n",
    "        print(garage.spaces)\n",
    "        garage.spaces.append(self.spot)\n",
    "        print(garage.spaces)\n",
    "        \n",
    "car = tickets('bob', 4)\n",
    "car.choseSpot()\n",
    "car.leaveSpot()\n"
   ]
  },
  {
   "cell_type": "code",
   "execution_count": 3,
   "metadata": {},
   "outputs": [
    {
     "ename": "SyntaxError",
     "evalue": "unexpected EOF while parsing (<ipython-input-3-0aeefe0f22b2>, line 4)",
     "output_type": "error",
     "traceback": [
      "\u001b[1;36m  File \u001b[1;32m\"<ipython-input-3-0aeefe0f22b2>\"\u001b[1;36m, line \u001b[1;32m4\u001b[0m\n\u001b[1;33m    \u001b[0m\n\u001b[1;37m    ^\u001b[0m\n\u001b[1;31mSyntaxError\u001b[0m\u001b[1;31m:\u001b[0m unexpected EOF while parsing\n"
     ]
    }
   ],
   "source": [
    "class vehicle:\n",
    "    \n",
    "    #track which vehicle has a ticket\n",
    "    \n"
   ]
  },
  {
   "cell_type": "code",
   "execution_count": 16,
   "metadata": {},
   "outputs": [
    {
     "name": "stdout",
     "output_type": "stream",
     "text": [
      "greg\n"
     ]
    },
    {
     "ename": "AttributeError",
     "evalue": "type object 'lot' has no attribute 'spot'",
     "output_type": "error",
     "traceback": [
      "\u001b[1;31m---------------------------------------------------------------------------\u001b[0m",
      "\u001b[1;31mAttributeError\u001b[0m                            Traceback (most recent call last)",
      "\u001b[1;32m<ipython-input-16-83f508852642>\u001b[0m in \u001b[0;36m<module>\u001b[1;34m\u001b[0m\n\u001b[0;32m      1\u001b[0m \u001b[0mcar1\u001b[0m \u001b[1;33m=\u001b[0m \u001b[0mtickets\u001b[0m\u001b[1;33m(\u001b[0m\u001b[1;34m'greg'\u001b[0m\u001b[1;33m,\u001b[0m \u001b[1;36m5\u001b[0m\u001b[1;33m,\u001b[0m \u001b[1;36m2\u001b[0m\u001b[1;33m)\u001b[0m\u001b[1;33m\u001b[0m\u001b[1;33m\u001b[0m\u001b[0m\n\u001b[0;32m      2\u001b[0m \u001b[0mprint\u001b[0m\u001b[1;33m(\u001b[0m\u001b[0mcar1\u001b[0m\u001b[1;33m.\u001b[0m\u001b[0mdriver\u001b[0m\u001b[1;33m)\u001b[0m\u001b[1;33m\u001b[0m\u001b[1;33m\u001b[0m\u001b[0m\n\u001b[1;32m----> 3\u001b[1;33m \u001b[0mprint\u001b[0m\u001b[1;33m(\u001b[0m\u001b[0mlot\u001b[0m\u001b[1;33m.\u001b[0m\u001b[0mspot\u001b[0m\u001b[1;33m)\u001b[0m\u001b[1;33m\u001b[0m\u001b[1;33m\u001b[0m\u001b[0m\n\u001b[0m",
      "\u001b[1;31mAttributeError\u001b[0m: type object 'lot' has no attribute 'spot'"
     ]
    }
   ],
   "source": [
    "car1 = tickets('greg', 5, 2)\n",
    "print(car1.driver)\n",
    "print(lot.spot)"
   ]
  }
 ],
 "metadata": {
  "kernelspec": {
   "display_name": "Python 3",
   "language": "python",
   "name": "python3"
  },
  "language_info": {
   "codemirror_mode": {
    "name": "ipython",
    "version": 3
   },
   "file_extension": ".py",
   "mimetype": "text/x-python",
   "name": "python",
   "nbconvert_exporter": "python",
   "pygments_lexer": "ipython3",
   "version": "3.8.5"
  }
 },
 "nbformat": 4,
 "nbformat_minor": 4
}
