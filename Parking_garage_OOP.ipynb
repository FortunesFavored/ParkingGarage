{
 "cells": [
  {
   "cell_type": "code",
   "execution_count": 1,
   "metadata": {},
   "outputs": [],
   "source": [
    "class lot():\n",
    "    \n",
    "    cur = [1,2,3,4,5,6,7,8,9,10]\n",
    "    \n",
    "    def __init__(self):\n",
    "        self.spaces = lot.cur"
   ]
  },
  {
   "cell_type": "code",
   "execution_count": 2,
   "metadata": {},
   "outputs": [],
   "source": [
    "class tickets:\n",
    "    \n",
    "    current_ticket = 1\n",
    "    #manage tickets for spaces in the lot\n",
    "    def __init__(self, driver, spot, paid=False):\n",
    "        self.driver = driver\n",
    "        self.spot = int(spot)\n",
    "        self.paid = paid\n",
    "        \n",
    "    def choseSpot(self):\n",
    "        garage.spaces.remove(self.spot)\n",
    "        \n",
    "    def leaveSpot(self):\n",
    "        garage.spaces.append(self.spot)\n",
    "        \n",
    "    def pay_ticket(self):\n",
    "        self.paid = True\n",
    "\n",
    "        \n",
    "# will = tickets('bob', 4)\n",
    "# car = will\n",
    "\n",
    "# # car.choseSpot()\n",
    "# # car.leaveSpot()\n",
    "# print(car.paid)\n",
    "# car.pay_ticket()\n",
    "# print(car.paid)\n",
    "\n"
   ]
  },
  {
   "cell_type": "code",
   "execution_count": 3,
   "metadata": {},
   "outputs": [],
   "source": [
    "# n = 0\n",
    "# while n < 3:\n",
    "#     x = input('name')\n",
    "#     x = tickets(1,5)\n",
    "#     n += 1\n",
    "# #names are: abe, gil, fil\n",
    "# print(gil.__dict__)\n",
    "    \n",
    "    "
   ]
  },
  {
   "cell_type": "code",
   "execution_count": 4,
   "metadata": {},
   "outputs": [
    {
     "name": "stdout",
     "output_type": "stream",
     "text": [
      "[1, 2, 4, 5, 6, 7, 8, 9, 10]\n",
      "[1, 2, 4, 5, 6, 7, 8, 9, 10]\n",
      "Would you like a \"Ticket\", \"Pay\", or \"Leave\"?ticket\n",
      "Current Available Spots are: [1, 2, 4, 5, 6, 7, 8, 9, 10]\n",
      "Who is the driver?greg\n",
      "What spot did you park in?7\n",
      "[1, 2, 4, 5, 6, 8, 9, 10]\n",
      "Would you like a \"Ticket\", \"Pay\", or \"Leave\"?pay\n",
      "\n",
      "[<__main__.tickets object at 0x0000012BABE1BB50>]\n",
      "Who are yougreg\n",
      "How would you like to pay? (Cash, Credit, Bitcoin)cash\n",
      "True\n",
      "[1, 2, 4, 5, 6, 8, 9, 10, 7]\n",
      "Would you like a \"Ticket\", \"Pay\", or \"Leave\"?quit\n"
     ]
    }
   ],
   "source": [
    "garage = lot()\n",
    "print(garage.spaces)\n",
    "    \n",
    "def main():\n",
    "    peeps = []\n",
    "    while True:\n",
    "        print(garage.spaces)\n",
    "        action = input('Would you like a \"Ticket\", \"Pay\", or \"Leave\"?').lower().strip()\n",
    "        if action == 'ticket':\n",
    "            print('Current Available Spots are:', garage.spaces)\n",
    "            driver = input('Who is the driver?')\n",
    "            spot = int(input('What spot did you park in?'))\n",
    "            driver = tickets(driver,spot)\n",
    "            driver.choseSpot()\n",
    "            peeps.append(driver)\n",
    "            continue\n",
    "        elif action == 'pay':\n",
    "            print()\n",
    "            print(peeps)\n",
    "            customer = input('Who are you')\n",
    "            for i in peeps:\n",
    "                if customer == i.driver:\n",
    "                    driver = i\n",
    "                    break\n",
    "            else:\n",
    "                print(\"You don't have the right to be here.\")\n",
    "            x = input('How would you like to pay? (Cash, Credit, Bitcoin)')\n",
    "            driver.pay_ticket()\n",
    "            driver.leaveSpot()\n",
    "            print(driver.paid)\n",
    "            pass\n",
    "        \n",
    "        elif action == 'leave':\n",
    "            break\n",
    "            pass\n",
    "            \n",
    "        elif action == 'quit':\n",
    "            break\n",
    "        else:\n",
    "            print('Invalid Input please try again Sammy')\n",
    "    \n",
    "    \n",
    "main()"
   ]
  }
 ],
 "metadata": {
  "kernelspec": {
   "display_name": "Python 3",
   "language": "python",
   "name": "python3"
  },
  "language_info": {
   "codemirror_mode": {
    "name": "ipython",
    "version": 3
   },
   "file_extension": ".py",
   "mimetype": "text/x-python",
   "name": "python",
   "nbconvert_exporter": "python",
   "pygments_lexer": "ipython3",
   "version": "3.8.5"
  }
 },
 "nbformat": 4,
 "nbformat_minor": 4
}
