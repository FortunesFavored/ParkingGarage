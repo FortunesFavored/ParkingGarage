{
 "cells": [
  {
   "cell_type": "code",
   "execution_count": 1,
   "metadata": {},
   "outputs": [],
   "source": [
    "class lot():\n",
    "    \n",
    "    cur = [1,2,3,4,5,6,7,8,9,10]\n",
    "    \n",
    "    def __init__(self):\n",
    "        self.spaces = lot.cur\n",
    "\n"
   ]
  },
  {
   "cell_type": "code",
   "execution_count": 2,
   "metadata": {},
   "outputs": [],
   "source": [
    "class tickets:\n",
    "    \n",
    "    current_ticket = 1\n",
    "    #manage tickets for spaces in the lot\n",
    "    def __init__(self, driver, spot, paid=False):\n",
    "        self.driver = driver\n",
    "        self.spot = spot\n",
    "        self.paid = paid\n",
    "        \n",
    "    def choseSpot(self):\n",
    "        print(garage.spaces)\n",
    "        garage.spaces.remove(self.spot)\n",
    "        print(garage.spaces)\n",
    "        \n",
    "    def leaveSpot(self):\n",
    "        garage.spaces.append(self.spot)\n",
    "        \n",
    "    def pay_ticket(self):\n",
    "        self.paid = True\n",
    "        \n",
    "# car = tickets('bob', 4)\n",
    "# car.choseSpot()\n",
    "# car.leaveSpot()tic\n",
    "# car.p\n"
   ]
  },
  {
   "cell_type": "code",
   "execution_count": 4,
   "metadata": {},
   "outputs": [
    {
     "name": "stdout",
     "output_type": "stream",
     "text": [
      "[2, 3, 4, 5, 6, 7, 8, 9, 10]\n",
      "would you like a 'Ticket', 'pay', or leave'?ticket\n",
      "current available spots are:  [2, 3, 4, 5, 6, 7, 8, 9, 10]\n",
      "who are yougabe\n",
      "what spot do you want? 2\n",
      "[2, 3, 4, 5, 6, 7, 8, 9, 10]\n",
      "[3, 4, 5, 6, 7, 8, 9, 10]\n",
      "would you like a 'Ticket', 'pay', or leave'?pay\n",
      "['gabe']\n",
      "who are you? gabe\n"
     ]
    },
    {
     "ename": "AttributeError",
     "evalue": "'str' object has no attribute 'pay_ticket'",
     "output_type": "error",
     "traceback": [
      "\u001b[1;31m---------------------------------------------------------------------------\u001b[0m",
      "\u001b[1;31mAttributeError\u001b[0m                            Traceback (most recent call last)",
      "\u001b[1;32m<ipython-input-4-90c0e2181733>\u001b[0m in \u001b[0;36m<module>\u001b[1;34m\u001b[0m\n\u001b[0;32m     36\u001b[0m             \u001b[0mprint\u001b[0m\u001b[1;33m(\u001b[0m\u001b[1;34m\"invalid input\"\u001b[0m\u001b[1;33m)\u001b[0m\u001b[1;33m\u001b[0m\u001b[1;33m\u001b[0m\u001b[0m\n\u001b[0;32m     37\u001b[0m \u001b[1;33m\u001b[0m\u001b[0m\n\u001b[1;32m---> 38\u001b[1;33m \u001b[0mmain\u001b[0m\u001b[1;33m(\u001b[0m\u001b[1;33m)\u001b[0m\u001b[1;33m\u001b[0m\u001b[1;33m\u001b[0m\u001b[0m\n\u001b[0m",
      "\u001b[1;32m<ipython-input-4-90c0e2181733>\u001b[0m in \u001b[0;36mmain\u001b[1;34m()\u001b[0m\n\u001b[0;32m     25\u001b[0m             \u001b[0mdriver\u001b[0m \u001b[1;33m=\u001b[0m \u001b[0minput\u001b[0m\u001b[1;33m(\u001b[0m\u001b[1;34m\"who are you? \"\u001b[0m\u001b[1;33m)\u001b[0m\u001b[1;33m.\u001b[0m\u001b[0mlower\u001b[0m\u001b[1;33m(\u001b[0m\u001b[1;33m)\u001b[0m\u001b[1;33m.\u001b[0m\u001b[0mstrip\u001b[0m\u001b[1;33m(\u001b[0m\u001b[1;33m)\u001b[0m\u001b[1;33m\u001b[0m\u001b[1;33m\u001b[0m\u001b[0m\n\u001b[0;32m     26\u001b[0m \u001b[1;31m#             x = input('how would you like to pay: ')\u001b[0m\u001b[1;33m\u001b[0m\u001b[1;33m\u001b[0m\u001b[1;33m\u001b[0m\u001b[0m\n\u001b[1;32m---> 27\u001b[1;33m             \u001b[0mdriver\u001b[0m\u001b[1;33m.\u001b[0m\u001b[0mpay_ticket\u001b[0m\u001b[1;33m(\u001b[0m\u001b[1;33m)\u001b[0m\u001b[1;33m\u001b[0m\u001b[1;33m\u001b[0m\u001b[0m\n\u001b[0m\u001b[0;32m     28\u001b[0m \u001b[1;33m\u001b[0m\u001b[0m\n\u001b[0;32m     29\u001b[0m             \u001b[1;32mpass\u001b[0m\u001b[1;33m\u001b[0m\u001b[1;33m\u001b[0m\u001b[0m\n",
      "\u001b[1;31mAttributeError\u001b[0m: 'str' object has no attribute 'pay_ticket'"
     ]
    }
   ],
   "source": [
    "garage = lot()\n",
    "print(garage.spaces)\n",
    "def main():\n",
    "    \n",
    "    peeps = []\n",
    "    \n",
    "    while True:\n",
    "        action = input(\"would you like a 'Ticket', 'pay', or leave'?\").lower().strip()\n",
    "        if action == 'ticket':\n",
    "            print(f\"current available spots are: \", garage.spaces)\n",
    "            driver = input('who are you')\n",
    "            peeps.append(driver)\n",
    "            spot = int(input('what spot do you want? '))\n",
    "            driver = tickets(driver,spot)\n",
    "            driver.choseSpot()\n",
    "#             print(lot.)\n",
    "#             print(car)\n",
    "#             print(car.paid)\n",
    "#             print(car.driver)\n",
    "#             print(car.spot)\n",
    "            \n",
    "            continue\n",
    "        elif action == 'pay':\n",
    "            print(peeps)\n",
    "            driver = input(\"who are you? \").lower().strip()\n",
    "#             x = input('how would you like to pay: ')\n",
    "            driver.pay_ticket()\n",
    "\n",
    "            pass\n",
    "        elif action == 'leave':\n",
    "            \n",
    "            pass\n",
    "        elif action == 'quit':\n",
    "            break\n",
    "        else:\n",
    "            print(\"invalid input\")\n",
    "    \n",
    "main()\n"
   ]
  }
 ],
 "metadata": {
  "kernelspec": {
   "display_name": "Python 3",
   "language": "python",
   "name": "python3"
  },
  "language_info": {
   "codemirror_mode": {
    "name": "ipython",
    "version": 3
   },
   "file_extension": ".py",
   "mimetype": "text/x-python",
   "name": "python",
   "nbconvert_exporter": "python",
   "pygments_lexer": "ipython3",
   "version": "3.8.5"
  }
 },
 "nbformat": 4,
 "nbformat_minor": 4
}
